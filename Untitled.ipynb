{
 "cells": [
  {
   "cell_type": "code",
   "execution_count": null,
   "id": "ee6eb8d0",
   "metadata": {},
   "outputs": [],
   "source": [
    "import requests\n",
    "import pandas as pd\n",
    "import numpy as np\n",
    "\n",
    "import streamlit as st\n",
    "from streamlit import caching\n",
    "\n",
    "import datetime"
   ]
  },
  {
   "cell_type": "code",
   "execution_count": null,
   "id": "3b77b4b6",
   "metadata": {},
   "outputs": [],
   "source": [
    "def load_data(start_date, end_date, selected_service_area, selected_vehicle_type):\n",
    "    params = {\n",
    "            'all_trips_during_window':\"true\",\n",
    "            'deposit_collected':'false',\n",
    "            'start_date':start_date,\n",
    "            'end_date':end_date,\n",
    "            'service_area_name':selected_service_area,\n",
    "            'no_surfer_activity':'false',\n",
    "            'surfer_unassigned':'false',\n",
    "            'trip_status':'all',\n",
    "            'user_unverified':'false',\n",
    "            'user_verified':'false',\n",
    "            'vehicle_unassigned':'false',\n",
    "            'vehicle_classes':selected_vehicle_type,\n",
    "            'limit':10000,\n",
    "            'leg_type':None,\n",
    "        }\n",
    "    \n",
    "    response = requests.get(\"https://api.drivekyte.com/api/fleet/bookings/legs?\",params=params, headers=headers)\n",
    "    print(response.status_code)\n",
    "    response.raise_for_status()\n",
    "    response_meta = response.json()['meta']\n",
    "    response_data = response.json()['data']\n",
    "    \n",
    "    df = pd.DataFrame(response_data)\n",
    "\n",
    "    # convert to datetime\n",
    "    df['service_area'] = df['service_area'].apply(lambda x: x['name'])\n",
    "    df['start_date'] = df['trip'].apply(lambda x: x['start_date'])\n",
    "    df['end_date'] = df['trip'].apply(lambda x: x['end_date'])\n",
    "    \n",
    "    df['start_date'] = pd.to_datetime(df['start_date'],unit='ms')\n",
    "    df['end_date'] = pd.to_datetime(df['end_date'],unit='ms')\n",
    "    \n",
    "    # remove unnecessary data\n",
    "    df = df.drop(['no_surfer_activity','supplier_handoff_time','surfer','start_time'],axis=1)\n",
    "    df = df.drop(df[(df['type'] == 'swap')].index)\n",
    "    df = df.drop(df[(df['type'] == 'swap')].index)\n",
    "\n",
    "    return df, response_meta\n"
   ]
  },
  {
   "cell_type": "markdown",
   "id": "5cbed5c5",
   "metadata": {},
   "source": [
    "https://api.drivekyte.com/api/fleet/bookings/legs?all_trips_during_window=false&deposit_collected=false&end_date=1638863999999&limit=50&no_surfer_activity=false&page=1&service_area_name=all&sort=start_time+asc&start_date=1638172800000&surfer_unassigned=false&trip_status=all&user_unverified=false&user_verified=false&vehicle_unassigned=false\n",
    "    \n",
    "    "
   ]
  },
  {
   "cell_type": "markdown",
   "id": "4b1164db",
   "metadata": {},
   "source": [
    "https://fleet.drivekyte.com/bookings?allTripsDuringWindow=true&depositCollected=false&endDate=1640937540000&limit=50&page=1&sort=start_time%2Basc&startDate=1638172800000&tripStatus=all&userVerified=false&vehicleClasses=Economy"
   ]
  },
  {
   "cell_type": "code",
   "execution_count": null,
   "id": "b9139261",
   "metadata": {},
   "outputs": [],
   "source": [
    "headers = {\n",
    "    'authority': \"api.drivekyte.com\",\n",
    "    'origin': \"https://fleet.drivekyte.com\",\n",
    "    'sec-fetch-mode': 'cors',\n",
    "    'accept-language': 'en-GB,en-US;q=0.9,en;q=0.8',\n",
    "    'cookie': st.secrets[\"COOKIE\"]\n",
    "    \n",
    "}\n",
    "\n",
    "DATE_COLUMN = 'start_date'\n",
    "\n",
    "# @st.cache\n",
    "\n",
    "    \n",
    "\n",
    "######### STREAMLIT INPUT WIDGETS #########\n",
    "\n",
    "### Service area selector\n",
    "form = st.form(\"my_form\")\n",
    "# list_service_area = list(data['service_area'].unique())\n",
    "list_service_area = ['LA', 'SF', 'BOS', 'BK', 'DC', 'NYC', 'SEA', 'MIA', 'CHI', 'LB', 'PHL', 'all']\n",
    "selected_service_area = \"all\"\n",
    "\n",
    "### Vehicle type selector\n",
    "list_vehicle_type = [\"Economy\", \"SUV\", \"Sedan\"]\n",
    "selected_vehicle_type = \"Economy\"\n",
    "\n",
    "### input number of vehicles \n",
    "initial_no_vehicles = form.number_input(\"Insert start number of vehicles from today's fleet audit. \\n Keep at 0 if you don't want to calculate this\",value=0)\n",
    "\n",
    "### Start day selector\n",
    "start_date_day = form.date_input(\"Start day\", datetime.datetime.now())\n",
    "start_date_time = datetime.datetime.min.time()\n",
    "start_date = datetime.datetime.combine(start_date_day, start_date_time)\n",
    "print(start_date)\n",
    "\n",
    "### End day selector\n",
    "end_date_day = form.date_input(\"End day\", datetime.datetime.now() + datetime.timedelta(days=30) )\n",
    "end_date_time = datetime.datetime.min.time()\n",
    "end_date = datetime.datetime.combine(end_date_day, end_date_time)\n",
    "print(end_date)\n",
    "\n",
    "#sumbmit button\n",
    "submitted = form.form_submit_button(\"Submit\")\n",
    "\n",
    "\n"
   ]
  },
  {
   "cell_type": "code",
   "execution_count": 5,
   "id": "4b7a834e",
   "metadata": {},
   "outputs": [
    {
     "name": "stdout",
     "output_type": "stream",
     "text": [
      "200\n"
     ]
    },
    {
     "ename": "ValueError",
     "evalue": "too many values to unpack (expected 2)",
     "output_type": "error",
     "traceback": [
      "\u001b[0;31m---------------------------------------------------------------------------\u001b[0m",
      "\u001b[0;31mValueError\u001b[0m                                Traceback (most recent call last)",
      "\u001b[0;32m/var/folders/px/9xg0tjrs1yl3b6m_b6c2scwc0000gn/T/ipykernel_73112/3685453334.py\u001b[0m in \u001b[0;36m<module>\u001b[0;34m\u001b[0m\n\u001b[1;32m      5\u001b[0m     \u001b[0;31m# Create a text element and let the reader know the data is loading.\u001b[0m\u001b[0;34m\u001b[0m\u001b[0;34m\u001b[0m\u001b[0;34m\u001b[0m\u001b[0m\n\u001b[1;32m      6\u001b[0m     \u001b[0mdata_load_state\u001b[0m \u001b[0;34m=\u001b[0m \u001b[0mst\u001b[0m\u001b[0;34m.\u001b[0m\u001b[0mtext\u001b[0m\u001b[0;34m(\u001b[0m\u001b[0;34m'Loading data...'\u001b[0m\u001b[0;34m)\u001b[0m\u001b[0;34m\u001b[0m\u001b[0;34m\u001b[0m\u001b[0m\n\u001b[0;32m----> 7\u001b[0;31m     \u001b[0mdata\u001b[0m\u001b[0;34m,\u001b[0m \u001b[0mmeta\u001b[0m \u001b[0;34m=\u001b[0m \u001b[0mload_data\u001b[0m\u001b[0;34m(\u001b[0m\u001b[0mstart_date\u001b[0m\u001b[0;34m,\u001b[0m \u001b[0mend_date\u001b[0m\u001b[0;34m,\u001b[0m \u001b[0mselected_service_area\u001b[0m\u001b[0;34m,\u001b[0m \u001b[0mselected_vehicle_type\u001b[0m\u001b[0;34m)\u001b[0m\u001b[0;34m\u001b[0m\u001b[0;34m\u001b[0m\u001b[0m\n\u001b[0m\u001b[1;32m      8\u001b[0m \u001b[0;34m\u001b[0m\u001b[0m\n\u001b[1;32m      9\u001b[0m     \u001b[0;31m# Notify the reader that the data was successfully loaded.\u001b[0m\u001b[0;34m\u001b[0m\u001b[0;34m\u001b[0m\u001b[0;34m\u001b[0m\u001b[0m\n",
      "\u001b[0;31mValueError\u001b[0m: too many values to unpack (expected 2)"
     ]
    }
   ],
   "source": [
    "## once user clicks submit\n",
    "submitted = True\n",
    "if submitted:\n",
    "    \n",
    "    # Create a text element and let the reader know the data is loading.\n",
    "    data_load_state = st.text('Loading data...')\n",
    "    data, meta = load_data(start_date, end_date, selected_service_area, selected_vehicle_type)\n",
    "\n",
    "    # Notify the reader that the data was successfully loaded.\n",
    "    data_load_state.text('Loading data...done!')\n",
    "    \n",
    "    # create dataframe to plot \n",
    "    df_plot = pd.DataFrame(pd.date_range(start=start_date, end=end_date,freq='H'), columns=['date'])\n",
    "    df_plot['no_bookings']=0\n",
    "    \n",
    "    for row in df_plot.index:\n",
    "        df_plot.at[row, 'no_bookings'] = ( (data['start_date'] < df_plot.at[row, 'date']) & (data['end_date'] >= df_plot.at[row, 'date']) ).sum()\n",
    "    \n",
    "    df_plot['no_bookings'] = df_plot['no_bookings'].astype('int')\n",
    "    df_plot = df_plot.set_index('date')\n",
    "\n",
    "    df_plot['delta'] = df_plot['no_bookings'].apply(lambda x: df_plot['no_bookings'][start_date] - x)\n",
    "    \n",
    "    if initial_no_vehicles != 0:\n",
    "        car_col_name = \"No of \" + selected_vehicle_type\n",
    "        df_plot[car_col_name] = df_plot['delta'].apply(lambda x: initial_no_vehicles + x)\n",
    "        cols = ['no_bookings', car_col_name]\n",
    "        text_subheader = \"Number of ongoing bookings and available \" + selected_vehicle_type + \", per hour\"\n",
    "    else:\n",
    "        cols = ['no_bookings']\n",
    "        text_subheader = \"Number of ongoing \" + selected_vehicle_type + \" bookings, per hour\"\n",
    "\n",
    "\n",
    "    # create histogram\n",
    "    \n",
    "    st.subheader(text_subheader)\n",
    "    st.line_chart(df_plot[cols])\n",
    "\n"
   ]
  },
  {
   "cell_type": "code",
   "execution_count": null,
   "id": "d7b7e47b",
   "metadata": {},
   "outputs": [],
   "source": [
    "meta"
   ]
  },
  {
   "cell_type": "code",
   "execution_count": 4,
   "id": "817fa676",
   "metadata": {},
   "outputs": [
    {
     "ename": "NameError",
     "evalue": "name 'data' is not defined",
     "output_type": "error",
     "traceback": [
      "\u001b[0;31m---------------------------------------------------------------------------\u001b[0m",
      "\u001b[0;31mNameError\u001b[0m                                 Traceback (most recent call last)",
      "\u001b[0;32m/var/folders/px/9xg0tjrs1yl3b6m_b6c2scwc0000gn/T/ipykernel_73112/391604064.py\u001b[0m in \u001b[0;36m<module>\u001b[0;34m\u001b[0m\n\u001b[0;32m----> 1\u001b[0;31m \u001b[0mdata\u001b[0m\u001b[0;34m\u001b[0m\u001b[0;34m\u001b[0m\u001b[0m\n\u001b[0m",
      "\u001b[0;31mNameError\u001b[0m: name 'data' is not defined"
     ]
    }
   ],
   "source": [
    "data"
   ]
  },
  {
   "cell_type": "code",
   "execution_count": null,
   "id": "a26baaf4",
   "metadata": {},
   "outputs": [],
   "source": []
  },
  {
   "cell_type": "code",
   "execution_count": null,
   "id": "8ed1d41f",
   "metadata": {},
   "outputs": [],
   "source": [
    "one_ways = get_one_ways(data)"
   ]
  },
  {
   "cell_type": "code",
   "execution_count": null,
   "id": "e7e849d1",
   "metadata": {},
   "outputs": [],
   "source": [
    "one_ways.head(5)"
   ]
  },
  {
   "cell_type": "code",
   "execution_count": null,
   "id": "d8366bfb",
   "metadata": {},
   "outputs": [],
   "source": [
    "# df = df.rename(columns={'oldName1': 'newName1', 'oldName2': 'newName2'})\n",
    "\n"
   ]
  },
  {
   "cell_type": "code",
   "execution_count": null,
   "id": "1624b2d6",
   "metadata": {},
   "outputs": [],
   "source": [
    "one_ways[['Delivery_SA','Return_SA','start_date','end_date']]\n",
    "\n"
   ]
  },
  {
   "cell_type": "code",
   "execution_count": 3,
   "id": "57a0073a",
   "metadata": {},
   "outputs": [
    {
     "name": "stdout",
     "output_type": "stream",
     "text": [
      "LA\n"
     ]
    }
   ],
   "source": [
    "import requests\n",
    "import pandas as pd\n",
    "import numpy as np\n",
    "\n",
    "import streamlit as st\n",
    "from streamlit import caching\n",
    "\n",
    "import datetime\n",
    "\n",
    "\n",
    "headers = {\n",
    "    'authority': \"api.drivekyte.com\",\n",
    "    'origin': \"https://fleet.drivekyte.com\",\n",
    "    'sec-fetch-mode': 'cors',\n",
    "    'accept-language': 'en-GB,en-US;q=0.9,en;q=0.8',\n",
    "    'cookie': st.secrets[\"COOKIE\"]\n",
    "    \n",
    "}\n",
    "\n",
    "params = {\n",
    "            'all_trips_during_window':\"true\",\n",
    "            'deposit_collected':'false',\n",
    "            'no_surfer_activity':'false',\n",
    "            'surfer_unassigned':'false',\n",
    "            'trip_status':'all',\n",
    "            'user_unverified':'false',\n",
    "            'user_verified':'false',\n",
    "            'vehicle_unassigned':'false',\n",
    "            'limit':100000,\n",
    "        }\n",
    "\n",
    "DATE_COLUMN = 'start_date'\n",
    "\n",
    "def get_one_ways(data):\n",
    "    deliveries = data.loc[data['type']=='delivery'].set_index('trip_uuid')\n",
    "    returns = data.loc[data['type']=='return'].set_index('trip_uuid')\n",
    "\n",
    "    result = pd.concat([deliveries, returns], axis=1, join=\"inner\")\n",
    "    cols=pd.Series(result.columns)\n",
    "\n",
    "    for dup in cols[cols.duplicated()].unique(): \n",
    "        cols[cols[cols == dup].index.values.tolist()] = [dup + '_' + str(i) if i != 0 else dup for i in range(sum(cols == dup))]\n",
    "    result.columns = cols\n",
    "    \n",
    "    result = result.loc[~(result['service_area'] == result['service_area_1'])]\n",
    "    \n",
    "    result = result.rename(columns={'service_area':'Delivery_SA', 'service_area_1':'Return_SA'})\n",
    "    \n",
    "    return result[['Delivery_SA','Return_SA','start_date','end_date']]\n",
    "\n",
    "\n",
    "# @st.cache\n",
    "def load_data(start_date, end_date, selected_service_area, selected_vehicle_type, one_ways=False):\n",
    "    \n",
    "    params['start_date']=start_date\n",
    "    params['end_date']=end_date\n",
    "    params['vehicle_classes']=selected_vehicle_type\n",
    "\n",
    "    if one_ways:\n",
    "        params['service_area_name']=\"all\"\n",
    "    else:\n",
    "        params['service_area_name']=selected_service_area\n",
    "        params['leg_type']='delivery'\n",
    "        \n",
    "\n",
    "\n",
    "    response = requests.get(\"https://api.drivekyte.com/api/fleet/bookings/legs?\",params=params, headers=headers)\n",
    "    print(response.status_code)\n",
    "    response.raise_for_status()\n",
    "    response_meta = response.json()['meta']\n",
    "    response_data = response.json()['data']\n",
    "    \n",
    "    df = pd.DataFrame(response_data)\n",
    "\n",
    "    # convert to datetime\n",
    "    df['service_area'] = df['service_area'].apply(lambda x: x['name'])\n",
    "    df['start_date'] = df['trip'].apply(lambda x: x['start_date'])\n",
    "    df['end_date'] = df['trip'].apply(lambda x: x['end_date'])\n",
    "    \n",
    "    df['start_date'] = pd.to_datetime(df['start_date'],unit='ms')\n",
    "    df['end_date'] = pd.to_datetime(df['end_date'],unit='ms')\n",
    "    \n",
    "    # remove unnecessary data\n",
    "    df = df.drop(['lot','handover_address','no_surfer_activity','supplier_handoff_time','surfer','start_time','trip'],axis=1)\n",
    "    df = df.drop(df[(df['type'] == 'swap')].index)\n",
    "    df = df.drop(df[(df['type'] == 'swap')].index)\n",
    "\n",
    "    return df\n",
    "\n",
    "    \n",
    "\n",
    "######### STREAMLIT INPUT WIDGETS #########\n",
    "\n",
    "### Service area selector\n",
    "form = st.form(\"my_form\")\n",
    "# list_service_area = list(data['service_area'].unique())\n",
    "list_service_area = ['LA', 'SF', 'BOS', 'BK', 'DC', 'NYC', 'SEA', 'MIA', 'CHI', 'LB', 'PHL']\n",
    "selected_service_area = form.selectbox(\"Select your service area\", list_service_area)\n",
    "print(selected_service_area)\n",
    "\n",
    "### Vehicle type selector\n",
    "list_vehicle_type = [\"Economy\", \"SUV\", \"Sedan\"]\n",
    "selected_vehicle_type = form.selectbox(\"Select vehicle type\", list_vehicle_type)\n",
    "\n",
    "### input number of vehicles \n",
    "initial_no_vehicles = form.number_input(\"Insert start number of vehicles from today's fleet audit. \\n Keep at 0 if you don't want to calculate this\",value=0)\n",
    "\n",
    "### Start day selector\n",
    "start_date_day = form.date_input(\"Start day\", datetime.datetime.now())\n",
    "start_date_time = datetime.datetime.min.time()\n",
    "start_date = datetime.datetime.combine(start_date_day, start_date_time)\n",
    "\n",
    "### End day selector\n",
    "end_date_day = form.date_input(\"End day\", datetime.datetime.now() + datetime.timedelta(days=1) )\n",
    "end_date_time = datetime.datetime.min.time()\n",
    "end_date = datetime.datetime.combine(end_date_day, end_date_time)\n",
    "\n",
    "#sumbmit button\n",
    "submitted = form.form_submit_button(\"Submit\")\n",
    "\n",
    "\n",
    "## once user clicks submit\n",
    "if submitted:\n",
    "    \n",
    "    # Create a text element and let the reader know the data is loading.\n",
    "    data_load_state = st.text('Loading data...')\n",
    "    data = load_data(start_date, end_date, selected_service_area, selected_vehicle_type)\n",
    "\n",
    "    # Notify the reader that the data was successfully loaded.\n",
    "    data_load_state.text('Loading data...done!')\n",
    "    \n",
    "    # create dataframe to plot \n",
    "    df_plot = pd.DataFrame(pd.date_range(start=start_date, end=end_date,freq='H'), columns=['date'])\n",
    "    df_plot['no_bookings']=0\n",
    "    \n",
    "    for row in df_plot.index:\n",
    "        df_plot.at[row, 'no_bookings'] = ( (data['start_date'] < df_plot.at[row, 'date']) & (data['end_date'] >= df_plot.at[row, 'date']) ).sum()\n",
    "    \n",
    "    df_plot['no_bookings'] = df_plot['no_bookings'].astype('int')\n",
    "    df_plot = df_plot.set_index('date')\n",
    "\n",
    "    df_plot['delta'] = df_plot['no_bookings'].apply(lambda x: df_plot['no_bookings'][start_date] - x)\n",
    "    \n",
    "    # TODO: add checker\n",
    "    if initial_no_vehicles != 0:\n",
    "        car_col_name = \"No of \" + selected_vehicle_type\n",
    "        df_plot[car_col_name] = df_plot['delta'].apply(lambda x: initial_no_vehicles + x)\n",
    "        cols = ['no_bookings', car_col_name]\n",
    "        text_subheader = \"Number of ongoing bookings and available \" + selected_vehicle_type + \", per hour\"\n",
    "    else:\n",
    "        cols = ['no_bookings']\n",
    "        text_subheader = \"Number of ongoing \" + selected_vehicle_type + \" bookings, per hour\"\n",
    "\n",
    "\n",
    "    # create histogram\n",
    "    \n",
    "    st.subheader(text_subheader)\n",
    "    st.line_chart(df_plot[cols])\n",
    "\n"
   ]
  },
  {
   "cell_type": "code",
   "execution_count": null,
   "id": "62847a68",
   "metadata": {},
   "outputs": [],
   "source": [
    "data"
   ]
  },
  {
   "cell_type": "code",
   "execution_count": 6,
   "id": "f69fc2b5",
   "metadata": {},
   "outputs": [],
   "source": [
    "start_date_time = datetime.datetime.min.time()"
   ]
  },
  {
   "cell_type": "code",
   "execution_count": 7,
   "id": "7c081992",
   "metadata": {},
   "outputs": [
    {
     "data": {
      "text/plain": [
       "datetime.time(0, 0)"
      ]
     },
     "execution_count": 7,
     "metadata": {},
     "output_type": "execute_result"
    }
   ],
   "source": [
    "start_date_time"
   ]
  },
  {
   "cell_type": "code",
   "execution_count": 8,
   "id": "90978bdd",
   "metadata": {},
   "outputs": [],
   "source": [
    "start_date = datetime.datetime.combine(start_date_day, start_date_time)"
   ]
  },
  {
   "cell_type": "code",
   "execution_count": 12,
   "id": "bbc17eed",
   "metadata": {},
   "outputs": [
    {
     "data": {
      "text/plain": [
       "1638140400000"
      ]
     },
     "execution_count": 12,
     "metadata": {},
     "output_type": "execute_result"
    }
   ],
   "source": [
    "int(start_date.timestamp()*1000)"
   ]
  },
  {
   "cell_type": "code",
   "execution_count": 13,
   "id": "a04c5f42",
   "metadata": {},
   "outputs": [
    {
     "data": {
      "text/plain": [
       "118799999"
      ]
     },
     "execution_count": 13,
     "metadata": {},
     "output_type": "execute_result"
    }
   ],
   "source": [
    "1638259199999-int(start_date.timestamp()*1000)"
   ]
  },
  {
   "cell_type": "code",
   "execution_count": null,
   "id": "63e96aee",
   "metadata": {},
   "outputs": [],
   "source": []
  }
 ],
 "metadata": {
  "kernelspec": {
   "display_name": "Python 3 (ipykernel)",
   "language": "python",
   "name": "python3"
  },
  "language_info": {
   "codemirror_mode": {
    "name": "ipython",
    "version": 3
   },
   "file_extension": ".py",
   "mimetype": "text/x-python",
   "name": "python",
   "nbconvert_exporter": "python",
   "pygments_lexer": "ipython3",
   "version": "3.8.12"
  }
 },
 "nbformat": 4,
 "nbformat_minor": 5
}
