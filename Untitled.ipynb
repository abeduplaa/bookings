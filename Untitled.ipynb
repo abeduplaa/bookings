{
 "cells": [
  {
   "cell_type": "code",
   "execution_count": 1,
   "id": "ee6eb8d0",
   "metadata": {},
   "outputs": [],
   "source": [
    "import requests\n",
    "import pandas as pd\n",
    "import numpy as np\n",
    "\n",
    "import streamlit as st\n",
    "from streamlit import caching\n",
    "\n",
    "import datetime\n",
    "import math"
   ]
  },
  {
   "cell_type": "code",
   "execution_count": 2,
   "id": "be23c1dc",
   "metadata": {},
   "outputs": [],
   "source": [
    "start_date = datetime.datetime.now()\n",
    "end_date = start_date + datetime.timedelta(days=1)\n",
    "unix_start_date = int(start_date.timestamp()*1000)\n",
    "unix_end_date = int(end_date.timestamp()*1000)\n",
    "# end_date = datetime."
   ]
  },
  {
   "cell_type": "code",
   "execution_count": 9,
   "id": "d427a891",
   "metadata": {},
   "outputs": [
    {
     "name": "stdout",
     "output_type": "stream",
     "text": [
      "200\n"
     ]
    }
   ],
   "source": [
    "params = {\n",
    "    'all_trips_during_window':\"true\",\n",
    "    'deposit_collected':'false',\n",
    "    'start_date':unix_start_date,\n",
    "    'end_date':unix_end_date,\n",
    "    'service_area_name':'all',\n",
    "    'no_surfer_activity':'false',\n",
    "    'surfer_unassigned':'false',\n",
    "    'trip_status':'all',\n",
    "    'user_unverified':'false',\n",
    "    'user_verified':'false',\n",
    "    'vehicle_unassigned':'false',\n",
    "    'limit':2000,\n",
    "}\n",
    "# all_trips_during_window=true&deposit_collected=false&end_date=1637913540000&limit=50&no_surfer_activity=false&page=1&service_area_name=all&sort=start_time%2Basc&start_date=1637740800000&surfer_unassigned=false&trip_status=all&user_unverified=false&user_verified=false&vehicle_unassigned=false&leg_type=delivery'\n",
    "\n",
    "\n",
    "headers = {\n",
    "    'authority': \"api.drivekyte.com\",\n",
    "    'origin': \"https://fleet.drivekyte.com\",\n",
    "    'sec-fetch-mode': 'cors',\n",
    "    'accept-language': 'en-GB,en-US;q=0.9,en;q=0.8',\n",
    "    'cookie': 'experimentation_subject_id=eyJfcmFpbHMiOnsibWVzc2FnZSI6IklqSmtPVE13TjJKbUxUTmpPR1V0TkdVd01DMWlZbVpoTFRoa1ptRTFOVFkxTWpjMk55ST0iLCJleHAiOm51bGwsInB1ciI6ImNvb2tpZS5leHBlcmltZW50YXRpb25fc3ViamVjdF9pZCJ9fQ%3D%3D--b8eafd8e117561e97e621eb178152ceb7dd9ce00; session=b9208acc-455c-48fb-a7d9-5997b7e1f023; _ga=GA1.2.1397983444.1629704284; _hjid=05d1707d-6139-420f-8f8a-8b6a569f0422; _fbp=fb.1.1629704283763.210886670; __qca=P0-63429127-1629704283912; rbuid=1497012765331692043; __adroll_fpc=20726dabc7f9002db26567a2ca3c5910-1629741904755; _scid=971d53b8-c87d-4f75-8456-c3e0fa760fa4; G_ENABLED_IDPS=google; __stripe_mid=8a542c6c-09f7-411d-9215-eeffb8fb52163976e6; __ar_v4=ZKKPBDRBP5CXVOHDYEPEIN%3A20210822%3A16%7CRO4OLXXBM5HFRMMYO2S3YV%3A20210822%3A16%7C3QY3D2AQBJA3HDQNPWMB3A%3A20210822%3A16; ab.storage.deviceId.0d58e0a0-54ca-447e-8e36-4070450fa383=%7B%22g%22%3A%226245ed38-af4e-7416-d6ab-4c3738d99e82%22%2C%22c%22%3A1632305921318%2C%22l%22%3A1632305921318%7D; mp_fb276b416f731801fe06277063a7e645_mixpanel=%7B%22distinct_id%22%3A%20%2217b71f1e4b0b96-07fefd97153c98-35607403-13c680-17b71f1e4b1dd7%22%2C%22%24device_id%22%3A%20%2217b71f1e4b0b96-07fefd97153c98-35607403-13c680-17b71f1e4b1dd7%22%2C%22%24initial_referrer%22%3A%20%22%24direct%22%2C%22%24initial_referring_domain%22%3A%20%22%24direct%22%2C%22%24search_engine%22%3A%20%22google%22%7D; remember_token=91209|874e6fda65e09a1efa22c39386470279b2db82c5566f72b9e13c5b72cdb8f5386caa54ea15ac6360799741cc38b7154497a52338d286ad26339128b3e4b01a92; _hjSessionUser_2348692=eyJpZCI6Ijc4NTE3YmQyLWEwZTItNWU0Yi1iNDUzLTViMWY2ZmIwMzdiNCIsImNyZWF0ZWQiOjE2MzcxNTkxMDIwNDYsImV4aXN0aW5nIjp0cnVlfQ==; ajs_user_id=%22fb8aeb42-e0d3-42be-8b7a-b125f5552bc9%22; ajs_anonymous_id=%228b80dc38-3ff2-427c-8e65-26d3aa30b836%22; ab.storage.userId.0d58e0a0-54ca-447e-8e36-4070450fa383=%7B%22g%22%3A%22fb8aeb42-e0d3-42be-8b7a-b125f5552bc9%22%2C%22c%22%3A1637240531020%2C%22l%22%3A1637240531020%7D; ab.storage.sessionId.0d58e0a0-54ca-447e-8e36-4070450fa383=%7B%22g%22%3A%2222ca447e-60dc-cb71-dd34-873e5c9595c2%22%2C%22e%22%3A1637240663139%2C%22c%22%3A1637240633140%2C%22l%22%3A1637240633140%7D; _gcl_au=1.1.1506338605.1637606960; _uetvid=0ca7ae7003e511eca86ad7229272d4df',\n",
    "    \n",
    "}\n",
    "\n",
    "response = requests.get(\"https://api.drivekyte.com/api/fleet/bookings/legs?\",params=params, headers=headers)\n",
    "print(response.status_code)\n",
    "\n"
   ]
  },
  {
   "cell_type": "code",
   "execution_count": 10,
   "id": "0f0c090b",
   "metadata": {},
   "outputs": [
    {
     "data": {
      "text/plain": [
       "200"
      ]
     },
     "execution_count": 10,
     "metadata": {},
     "output_type": "execute_result"
    }
   ],
   "source": [
    "response.status_code"
   ]
  },
  {
   "cell_type": "code",
   "execution_count": 11,
   "id": "a2f631a5",
   "metadata": {},
   "outputs": [
    {
     "data": {
      "text/plain": [
       "{'limit': 2000,\n",
       " 'next_url': None,\n",
       " 'page': 1,\n",
       " 'pages_total': 1,\n",
       " 'prev_url': None,\n",
       " 'result_count_for_page': 1431,\n",
       " 'results_total': 1431}"
      ]
     },
     "execution_count": 11,
     "metadata": {},
     "output_type": "execute_result"
    }
   ],
   "source": [
    "response.json()['meta']"
   ]
  },
  {
   "cell_type": "code",
   "execution_count": 115,
   "id": "d1eec26f",
   "metadata": {},
   "outputs": [
    {
     "ename": "NameError",
     "evalue": "name 'DATE_COLUMN' is not defined",
     "output_type": "error",
     "traceback": [
      "\u001b[0;31m---------------------------------------------------------------------------\u001b[0m",
      "\u001b[0;31mNameError\u001b[0m                                 Traceback (most recent call last)",
      "\u001b[0;32m/var/folders/px/9xg0tjrs1yl3b6m_b6c2scwc0000gn/T/ipykernel_55889/2300973586.py\u001b[0m in \u001b[0;36m<module>\u001b[0;34m\u001b[0m\n\u001b[1;32m      3\u001b[0m \u001b[0mdf\u001b[0m \u001b[0;34m=\u001b[0m \u001b[0mpd\u001b[0m\u001b[0;34m.\u001b[0m\u001b[0mDataFrame\u001b[0m\u001b[0;34m(\u001b[0m\u001b[0ma\u001b[0m\u001b[0;34m[\u001b[0m\u001b[0;34m'data'\u001b[0m\u001b[0;34m]\u001b[0m\u001b[0;34m)\u001b[0m\u001b[0;34m\u001b[0m\u001b[0;34m\u001b[0m\u001b[0m\n\u001b[1;32m      4\u001b[0m \u001b[0;34m\u001b[0m\u001b[0m\n\u001b[0;32m----> 5\u001b[0;31m \u001b[0mDATE_COLUMN\u001b[0m\u001b[0;34m\u001b[0m\u001b[0;34m\u001b[0m\u001b[0m\n\u001b[0m",
      "\u001b[0;31mNameError\u001b[0m: name 'DATE_COLUMN' is not defined"
     ]
    }
   ],
   "source": [
    "a = response.json()\n",
    "\n",
    "df = pd.DataFrame(a['data'])\n",
    "\n",
    "DATE_COLUMN"
   ]
  },
  {
   "cell_type": "code",
   "execution_count": 116,
   "id": "e74743aa",
   "metadata": {},
   "outputs": [],
   "source": [
    "df['service_area'] = df['service_area'].apply(lambda x: x['name'])\n",
    "df['start_date'] = df['trip'].apply(lambda x: x['start_date'])\n",
    "df['end_date'] = df['trip'].apply(lambda x: x['end_date'])\n",
    "df['start_date'] = pd.to_datetime(df['start_date'],unit='ms')\n",
    "df['end_date'] = pd.to_datetime(df['end_date'],unit='ms')\n",
    "df = df.drop(['lot','handover_address','no_surfer_activity','supplier_handoff_time','surfer','start_time','trip'],axis=1)\n",
    "df = df.drop(df[(df['type'] == 'swap')].index)"
   ]
  },
  {
   "cell_type": "code",
   "execution_count": 147,
   "id": "8abcce38",
   "metadata": {},
   "outputs": [
    {
     "data": {
      "text/plain": [
       "(1380, 6)"
      ]
     },
     "execution_count": 147,
     "metadata": {},
     "output_type": "execute_result"
    }
   ],
   "source": [
    "df.shape"
   ]
  },
  {
   "cell_type": "code",
   "execution_count": 142,
   "id": "c12a6922",
   "metadata": {},
   "outputs": [],
   "source": [
    "df_plot = pd.DataFrame(pd.date_range(start=start_date, end=end_date,freq='H'), columns=['date'])\n",
    "\n",
    "df_plot['count']=0"
   ]
  },
  {
   "cell_type": "code",
   "execution_count": 175,
   "id": "ceff5b89",
   "metadata": {},
   "outputs": [
    {
     "data": {
      "text/plain": [
       "942"
      ]
     },
     "execution_count": 175,
     "metadata": {},
     "output_type": "execute_result"
    }
   ],
   "source": [
    "df[(df['start_date'] < df_plot['date'][0]) & (df['end_date'] >= df_plot['date'][0])].shape[0]"
   ]
  },
  {
   "cell_type": "code",
   "execution_count": 186,
   "id": "c4fa5b9d",
   "metadata": {},
   "outputs": [
    {
     "data": {
      "text/html": [
       "<div>\n",
       "<style scoped>\n",
       "    .dataframe tbody tr th:only-of-type {\n",
       "        vertical-align: middle;\n",
       "    }\n",
       "\n",
       "    .dataframe tbody tr th {\n",
       "        vertical-align: top;\n",
       "    }\n",
       "\n",
       "    .dataframe thead th {\n",
       "        text-align: right;\n",
       "    }\n",
       "</style>\n",
       "<table border=\"1\" class=\"dataframe\">\n",
       "  <thead>\n",
       "    <tr style=\"text-align: right;\">\n",
       "      <th></th>\n",
       "      <th>count</th>\n",
       "    </tr>\n",
       "    <tr>\n",
       "      <th>date</th>\n",
       "      <th></th>\n",
       "    </tr>\n",
       "  </thead>\n",
       "  <tbody>\n",
       "    <tr>\n",
       "      <th>2021-11-24 15:56:52.439723</th>\n",
       "      <td>942</td>\n",
       "    </tr>\n",
       "    <tr>\n",
       "      <th>2021-11-24 16:56:52.439723</th>\n",
       "      <td>972</td>\n",
       "    </tr>\n",
       "    <tr>\n",
       "      <th>2021-11-24 17:56:52.439723</th>\n",
       "      <td>996</td>\n",
       "    </tr>\n",
       "    <tr>\n",
       "      <th>2021-11-24 18:56:52.439723</th>\n",
       "      <td>1028</td>\n",
       "    </tr>\n",
       "    <tr>\n",
       "      <th>2021-11-24 19:56:52.439723</th>\n",
       "      <td>1050</td>\n",
       "    </tr>\n",
       "    <tr>\n",
       "      <th>2021-11-24 20:56:52.439723</th>\n",
       "      <td>1070</td>\n",
       "    </tr>\n",
       "    <tr>\n",
       "      <th>2021-11-24 21:56:52.439723</th>\n",
       "      <td>1080</td>\n",
       "    </tr>\n",
       "    <tr>\n",
       "      <th>2021-11-24 22:56:52.439723</th>\n",
       "      <td>1090</td>\n",
       "    </tr>\n",
       "    <tr>\n",
       "      <th>2021-11-24 23:56:52.439723</th>\n",
       "      <td>1106</td>\n",
       "    </tr>\n",
       "    <tr>\n",
       "      <th>2021-11-25 00:56:52.439723</th>\n",
       "      <td>1108</td>\n",
       "    </tr>\n",
       "    <tr>\n",
       "      <th>2021-11-25 01:56:52.439723</th>\n",
       "      <td>1102</td>\n",
       "    </tr>\n",
       "    <tr>\n",
       "      <th>2021-11-25 02:56:52.439723</th>\n",
       "      <td>1096</td>\n",
       "    </tr>\n",
       "    <tr>\n",
       "      <th>2021-11-25 03:56:52.439723</th>\n",
       "      <td>1096</td>\n",
       "    </tr>\n",
       "    <tr>\n",
       "      <th>2021-11-25 04:56:52.439723</th>\n",
       "      <td>1090</td>\n",
       "    </tr>\n",
       "    <tr>\n",
       "      <th>2021-11-25 05:56:52.439723</th>\n",
       "      <td>1080</td>\n",
       "    </tr>\n",
       "    <tr>\n",
       "      <th>2021-11-25 06:56:52.439723</th>\n",
       "      <td>1076</td>\n",
       "    </tr>\n",
       "    <tr>\n",
       "      <th>2021-11-25 07:56:52.439723</th>\n",
       "      <td>1076</td>\n",
       "    </tr>\n",
       "    <tr>\n",
       "      <th>2021-11-25 08:56:52.439723</th>\n",
       "      <td>1076</td>\n",
       "    </tr>\n",
       "    <tr>\n",
       "      <th>2021-11-25 09:56:52.439723</th>\n",
       "      <td>1076</td>\n",
       "    </tr>\n",
       "    <tr>\n",
       "      <th>2021-11-25 10:56:52.439723</th>\n",
       "      <td>1076</td>\n",
       "    </tr>\n",
       "    <tr>\n",
       "      <th>2021-11-25 11:56:52.439723</th>\n",
       "      <td>1076</td>\n",
       "    </tr>\n",
       "    <tr>\n",
       "      <th>2021-11-25 12:56:52.439723</th>\n",
       "      <td>1102</td>\n",
       "    </tr>\n",
       "    <tr>\n",
       "      <th>2021-11-25 13:56:52.439723</th>\n",
       "      <td>1132</td>\n",
       "    </tr>\n",
       "    <tr>\n",
       "      <th>2021-11-25 14:56:52.439723</th>\n",
       "      <td>1184</td>\n",
       "    </tr>\n",
       "    <tr>\n",
       "      <th>2021-11-25 15:56:52.439723</th>\n",
       "      <td>1170</td>\n",
       "    </tr>\n",
       "  </tbody>\n",
       "</table>\n",
       "</div>"
      ],
      "text/plain": [
       "                            count\n",
       "date                             \n",
       "2021-11-24 15:56:52.439723    942\n",
       "2021-11-24 16:56:52.439723    972\n",
       "2021-11-24 17:56:52.439723    996\n",
       "2021-11-24 18:56:52.439723   1028\n",
       "2021-11-24 19:56:52.439723   1050\n",
       "2021-11-24 20:56:52.439723   1070\n",
       "2021-11-24 21:56:52.439723   1080\n",
       "2021-11-24 22:56:52.439723   1090\n",
       "2021-11-24 23:56:52.439723   1106\n",
       "2021-11-25 00:56:52.439723   1108\n",
       "2021-11-25 01:56:52.439723   1102\n",
       "2021-11-25 02:56:52.439723   1096\n",
       "2021-11-25 03:56:52.439723   1096\n",
       "2021-11-25 04:56:52.439723   1090\n",
       "2021-11-25 05:56:52.439723   1080\n",
       "2021-11-25 06:56:52.439723   1076\n",
       "2021-11-25 07:56:52.439723   1076\n",
       "2021-11-25 08:56:52.439723   1076\n",
       "2021-11-25 09:56:52.439723   1076\n",
       "2021-11-25 10:56:52.439723   1076\n",
       "2021-11-25 11:56:52.439723   1076\n",
       "2021-11-25 12:56:52.439723   1102\n",
       "2021-11-25 13:56:52.439723   1132\n",
       "2021-11-25 14:56:52.439723   1184\n",
       "2021-11-25 15:56:52.439723   1170"
      ]
     },
     "execution_count": 186,
     "metadata": {},
     "output_type": "execute_result"
    }
   ],
   "source": [
    "df_plot.set_index('date')"
   ]
  },
  {
   "cell_type": "code",
   "execution_count": 178,
   "id": "55d80409",
   "metadata": {},
   "outputs": [],
   "source": [
    "for b in df_plot.index:\n",
    "    df_plot['count'].loc[b] = int(df[(df['start_date'] < df_plot['date'].loc[b]) & (df['end_date'] >= df_plot['date'].loc[b])].shape[0])\n",
    "    \n",
    "df_plot['count'] = df_plot['count'].astype('int')"
   ]
  },
  {
   "cell_type": "code",
   "execution_count": 182,
   "id": "5b54f8e8",
   "metadata": {},
   "outputs": [
    {
     "data": {
      "text/html": [
       "<div>\n",
       "<style scoped>\n",
       "    .dataframe tbody tr th:only-of-type {\n",
       "        vertical-align: middle;\n",
       "    }\n",
       "\n",
       "    .dataframe tbody tr th {\n",
       "        vertical-align: top;\n",
       "    }\n",
       "\n",
       "    .dataframe thead th {\n",
       "        text-align: right;\n",
       "    }\n",
       "</style>\n",
       "<table border=\"1\" class=\"dataframe\">\n",
       "  <thead>\n",
       "    <tr style=\"text-align: right;\">\n",
       "      <th></th>\n",
       "      <th>date</th>\n",
       "      <th>count</th>\n",
       "    </tr>\n",
       "  </thead>\n",
       "  <tbody>\n",
       "    <tr>\n",
       "      <th>0</th>\n",
       "      <td>2021-11-24 15:56:52.439723</td>\n",
       "      <td>942</td>\n",
       "    </tr>\n",
       "    <tr>\n",
       "      <th>1</th>\n",
       "      <td>2021-11-24 16:56:52.439723</td>\n",
       "      <td>972</td>\n",
       "    </tr>\n",
       "    <tr>\n",
       "      <th>2</th>\n",
       "      <td>2021-11-24 17:56:52.439723</td>\n",
       "      <td>996</td>\n",
       "    </tr>\n",
       "    <tr>\n",
       "      <th>3</th>\n",
       "      <td>2021-11-24 18:56:52.439723</td>\n",
       "      <td>1028</td>\n",
       "    </tr>\n",
       "    <tr>\n",
       "      <th>4</th>\n",
       "      <td>2021-11-24 19:56:52.439723</td>\n",
       "      <td>1050</td>\n",
       "    </tr>\n",
       "  </tbody>\n",
       "</table>\n",
       "</div>"
      ],
      "text/plain": [
       "                        date  count\n",
       "0 2021-11-24 15:56:52.439723    942\n",
       "1 2021-11-24 16:56:52.439723    972\n",
       "2 2021-11-24 17:56:52.439723    996\n",
       "3 2021-11-24 18:56:52.439723   1028\n",
       "4 2021-11-24 19:56:52.439723   1050"
      ]
     },
     "execution_count": 182,
     "metadata": {},
     "output_type": "execute_result"
    }
   ],
   "source": [
    "df_plot.head()"
   ]
  },
  {
   "cell_type": "code",
   "execution_count": null,
   "id": "d63019d3",
   "metadata": {},
   "outputs": [],
   "source": [
    "df.head()\n",
    "DATE_COLUMN = 'start_time'\n",
    "df[DATE_COLUMN] = pd.to_datetime(df[DATE_COLUMN],unit='ms')\n",
    "\n"
   ]
  },
  {
   "cell_type": "code",
   "execution_count": null,
   "id": "8ed55c6e",
   "metadata": {},
   "outputs": [],
   "source": [
    "st.subheader('Number of ongoing bookings by hour')\n",
    "hist_values = np.histogram(\n",
    "    df[DATE_COLUMN].dt.hour, bins=24, range=(0,24))[0]\n",
    "st.bar_chart(hist_values)\n"
   ]
  },
  {
   "cell_type": "code",
   "execution_count": null,
   "id": "93e1bf14",
   "metadata": {},
   "outputs": [],
   "source": [
    "list(df['service_area'].unique())"
   ]
  },
  {
   "cell_type": "code",
   "execution_count": null,
   "id": "00ff2908",
   "metadata": {},
   "outputs": [],
   "source": [
    "df.shape[0]"
   ]
  },
  {
   "cell_type": "code",
   "execution_count": null,
   "id": "312cab14",
   "metadata": {},
   "outputs": [],
   "source": [
    "df.assign(Date=df.Date.dt.round('H'))"
   ]
  },
  {
   "cell_type": "code",
   "execution_count": null,
   "id": "a79deef8",
   "metadata": {},
   "outputs": [],
   "source": [
    "df[\"start_time\"].dt.round('H')"
   ]
  },
  {
   "cell_type": "code",
   "execution_count": null,
   "id": "45a54c80",
   "metadata": {},
   "outputs": [],
   "source": [
    "df['start_time_h'] = df[\"start_time\"].dt.round('H')"
   ]
  },
  {
   "cell_type": "code",
   "execution_count": null,
   "id": "0511d3e4",
   "metadata": {},
   "outputs": [],
   "source": [
    "df.groupby(df[\"start_time_h\"]).count()['lot']\n",
    "\n"
   ]
  },
  {
   "cell_type": "code",
   "execution_count": null,
   "id": "d4ce4696",
   "metadata": {},
   "outputs": [],
   "source": [
    "list_service_area = list(df['service_area'].unique())\n",
    "print(list_service_area)"
   ]
  },
  {
   "cell_type": "code",
   "execution_count": null,
   "id": "3842bfcf",
   "metadata": {},
   "outputs": [],
   "source": [
    "df.loc[df['service_area']=='LA'].head()"
   ]
  },
  {
   "cell_type": "code",
   "execution_count": null,
   "id": "f142fd0d",
   "metadata": {},
   "outputs": [],
   "source": [
    "TIME_DELTA = 6"
   ]
  },
  {
   "cell_type": "code",
   "execution_count": null,
   "id": "60a99438",
   "metadata": {},
   "outputs": [],
   "source": [
    "curl 'https://api.drivekyte.com/api/fleet/bookings/legs?all_trips_during_window=true&deposit_collected=false&end_date=1637913540000&limit=50&no_surfer_activity=false&page=1&service_area_name=all&sort=start_time%2Basc&start_date=1637740800000&surfer_unassigned=false&trip_status=all&user_unverified=false&user_verified=false&vehicle_unassigned=false&leg_type=delivery' \\\n",
    "  -H 'authority: api.drivekyte.com' \\\n",
    "  -H 'sec-ch-ua: \" Not A;Brand\";v=\"99\", \"Chromium\";v=\"96\", \"Google Chrome\";v=\"96\"' \\\n",
    "  -H 'accept: application/json, text/plain, */*' \\\n",
    "  -H 'sec-ch-ua-mobile: ?0' \\\n",
    "  -H 'user-agent: Mozilla/5.0 (Macintosh; Intel Mac OS X 10_15_7) AppleWebKit/537.36 (KHTML, like Gecko) Chrome/96.0.4664.55 Safari/537.36' \\\n",
    "  -H 'sec-ch-ua-platform: \"macOS\"' \\\n",
    "  -H 'origin: https://fleet.drivekyte.com' \\\n",
    "  -H 'sec-fetch-site: same-site' \\\n",
    "  -H 'sec-fetch-mode: cors' \\\n",
    "  -H 'sec-fetch-dest: empty' \\\n",
    "  -H 'referer: https://fleet.drivekyte.com/' \\\n",
    "  -H 'accept-language: en-GB,en-US;q=0.9,en;q=0.8' \\\n",
    "  -H 'cookie: experimentation_subject_id=eyJfcmFpbHMiOnsibWVzc2FnZSI6IklqSmtPVE13TjJKbUxUTmpPR1V0TkdVd01DMWlZbVpoTFRoa1ptRTFOVFkxTWpjMk55ST0iLCJleHAiOm51bGwsInB1ciI6ImNvb2tpZS5leHBlcmltZW50YXRpb25fc3ViamVjdF9pZCJ9fQ%3D%3D--b8eafd8e117561e97e621eb178152ceb7dd9ce00; session=b9208acc-455c-48fb-a7d9-5997b7e1f023; _ga=GA1.2.1397983444.1629704284; _hjid=05d1707d-6139-420f-8f8a-8b6a569f0422; _fbp=fb.1.1629704283763.210886670; __qca=P0-63429127-1629704283912; rbuid=1497012765331692043; __adroll_fpc=20726dabc7f9002db26567a2ca3c5910-1629741904755; _scid=971d53b8-c87d-4f75-8456-c3e0fa760fa4; G_ENABLED_IDPS=google; __stripe_mid=8a542c6c-09f7-411d-9215-eeffb8fb52163976e6; __ar_v4=ZKKPBDRBP5CXVOHDYEPEIN%3A20210822%3A16%7CRO4OLXXBM5HFRMMYO2S3YV%3A20210822%3A16%7C3QY3D2AQBJA3HDQNPWMB3A%3A20210822%3A16; ab.storage.deviceId.0d58e0a0-54ca-447e-8e36-4070450fa383=%7B%22g%22%3A%226245ed38-af4e-7416-d6ab-4c3738d99e82%22%2C%22c%22%3A1632305921318%2C%22l%22%3A1632305921318%7D; mp_fb276b416f731801fe06277063a7e645_mixpanel=%7B%22distinct_id%22%3A%20%2217b71f1e4b0b96-07fefd97153c98-35607403-13c680-17b71f1e4b1dd7%22%2C%22%24device_id%22%3A%20%2217b71f1e4b0b96-07fefd97153c98-35607403-13c680-17b71f1e4b1dd7%22%2C%22%24initial_referrer%22%3A%20%22%24direct%22%2C%22%24initial_referring_domain%22%3A%20%22%24direct%22%2C%22%24search_engine%22%3A%20%22google%22%7D; remember_token=91209|874e6fda65e09a1efa22c39386470279b2db82c5566f72b9e13c5b72cdb8f5386caa54ea15ac6360799741cc38b7154497a52338d286ad26339128b3e4b01a92; _hjSessionUser_2348692=eyJpZCI6Ijc4NTE3YmQyLWEwZTItNWU0Yi1iNDUzLTViMWY2ZmIwMzdiNCIsImNyZWF0ZWQiOjE2MzcxNTkxMDIwNDYsImV4aXN0aW5nIjp0cnVlfQ==; ajs_user_id=%22fb8aeb42-e0d3-42be-8b7a-b125f5552bc9%22; ajs_anonymous_id=%228b80dc38-3ff2-427c-8e65-26d3aa30b836%22; ab.storage.userId.0d58e0a0-54ca-447e-8e36-4070450fa383=%7B%22g%22%3A%22fb8aeb42-e0d3-42be-8b7a-b125f5552bc9%22%2C%22c%22%3A1637240531020%2C%22l%22%3A1637240531020%7D; ab.storage.sessionId.0d58e0a0-54ca-447e-8e36-4070450fa383=%7B%22g%22%3A%2222ca447e-60dc-cb71-dd34-873e5c9595c2%22%2C%22e%22%3A1637240663139%2C%22c%22%3A1637240633140%2C%22l%22%3A1637240633140%7D; _gcl_au=1.1.1506338605.1637606960; _uetvid=0ca7ae7003e511eca86ad7229272d4df' \\\n",
    "  --compressed"
   ]
  },
  {
   "cell_type": "code",
   "execution_count": null,
   "id": "8295e2d4",
   "metadata": {},
   "outputs": [],
   "source": [
    "import requests\n",
    "import pandas as pd\n",
    "import numpy as np\n",
    "\n",
    "import streamlit as st\n",
    "from streamlit import caching\n",
    "\n",
    "import datetime\n",
    "import math\n",
    "\n",
    "\n",
    "headers = {\n",
    "    'authority': \"api.drivekyte.com\",\n",
    "    'origin': \"https://fleet.drivekyte.com\",\n",
    "    'sec-fetch-mode': 'cors',\n",
    "    'accept-language': 'en-GB,en-US;q=0.9,en;q=0.8',\n",
    "    'cookie': 'experimentation_subject_id=eyJfcmFpbHMiOnsibWVzc2FnZSI6IklqSmtPVE13TjJKbUxUTmpPR1V0TkdVd01DMWlZbVpoTFRoa1ptRTFOVFkxTWpjMk55ST0iLCJleHAiOm51bGwsInB1ciI6ImNvb2tpZS5leHBlcmltZW50YXRpb25fc3ViamVjdF9pZCJ9fQ%3D%3D--b8eafd8e117561e97e621eb178152ceb7dd9ce00; session=b9208acc-455c-48fb-a7d9-5997b7e1f023; _ga=GA1.2.1397983444.1629704284; _hjid=05d1707d-6139-420f-8f8a-8b6a569f0422; _fbp=fb.1.1629704283763.210886670; __qca=P0-63429127-1629704283912; rbuid=1497012765331692043; __adroll_fpc=20726dabc7f9002db26567a2ca3c5910-1629741904755; _scid=971d53b8-c87d-4f75-8456-c3e0fa760fa4; G_ENABLED_IDPS=google; __stripe_mid=8a542c6c-09f7-411d-9215-eeffb8fb52163976e6; __ar_v4=ZKKPBDRBP5CXVOHDYEPEIN%3A20210822%3A16%7CRO4OLXXBM5HFRMMYO2S3YV%3A20210822%3A16%7C3QY3D2AQBJA3HDQNPWMB3A%3A20210822%3A16; ab.storage.deviceId.0d58e0a0-54ca-447e-8e36-4070450fa383=%7B%22g%22%3A%226245ed38-af4e-7416-d6ab-4c3738d99e82%22%2C%22c%22%3A1632305921318%2C%22l%22%3A1632305921318%7D; mp_fb276b416f731801fe06277063a7e645_mixpanel=%7B%22distinct_id%22%3A%20%2217b71f1e4b0b96-07fefd97153c98-35607403-13c680-17b71f1e4b1dd7%22%2C%22%24device_id%22%3A%20%2217b71f1e4b0b96-07fefd97153c98-35607403-13c680-17b71f1e4b1dd7%22%2C%22%24initial_referrer%22%3A%20%22%24direct%22%2C%22%24initial_referring_domain%22%3A%20%22%24direct%22%2C%22%24search_engine%22%3A%20%22google%22%7D; remember_token=91209|874e6fda65e09a1efa22c39386470279b2db82c5566f72b9e13c5b72cdb8f5386caa54ea15ac6360799741cc38b7154497a52338d286ad26339128b3e4b01a92; _hjSessionUser_2348692=eyJpZCI6Ijc4NTE3YmQyLWEwZTItNWU0Yi1iNDUzLTViMWY2ZmIwMzdiNCIsImNyZWF0ZWQiOjE2MzcxNTkxMDIwNDYsImV4aXN0aW5nIjp0cnVlfQ==; ajs_user_id=%22fb8aeb42-e0d3-42be-8b7a-b125f5552bc9%22; ajs_anonymous_id=%228b80dc38-3ff2-427c-8e65-26d3aa30b836%22; ab.storage.userId.0d58e0a0-54ca-447e-8e36-4070450fa383=%7B%22g%22%3A%22fb8aeb42-e0d3-42be-8b7a-b125f5552bc9%22%2C%22c%22%3A1637240531020%2C%22l%22%3A1637240531020%7D; ab.storage.sessionId.0d58e0a0-54ca-447e-8e36-4070450fa383=%7B%22g%22%3A%2222ca447e-60dc-cb71-dd34-873e5c9595c2%22%2C%22e%22%3A1637240663139%2C%22c%22%3A1637240633140%2C%22l%22%3A1637240633140%7D; _gcl_au=1.1.1506338605.1637606960; _uetvid=0ca7ae7003e511eca86ad7229272d4df',\n",
    "    \n",
    "}\n",
    "\n",
    "DATE_COLUMN = 'start_time'\n",
    "\n",
    "\n",
    "\n",
    "def fetch_data(params, headers, snapshot_time):\n",
    "    response = requests.get(\"https://api.drivekyte.com/api/fleet/bookings/legs?\",params=params, headers=headers)\n",
    "    print(response.status_code)\n",
    "    response.raise_for_status()\n",
    "    response_meta = response.json()['meta']\n",
    "    response_data = response.json()['data']\n",
    "    \n",
    "    df = pd.DataFrame(response_data)\n",
    "\n",
    "    # convert to datetime\n",
    "    df[DATE_COLUMN] = pd.to_datetime(df[DATE_COLUMN],unit='ms')\n",
    "\n",
    "    # keep only service area name\n",
    "    df['service_area'] = df['service_area'].apply(lambda x: x['name'])\n",
    "    \n",
    "    #add in time period\n",
    "    df['point_in_time'] = snapshot_time\n",
    "    return df\n",
    "\n",
    "\n",
    "#service area selector\n",
    "# list_service_area = list(data['service_area'].unique())\n",
    "list_service_area = ['LA', 'SF', 'BOS', 'BK', 'DC', 'NYC', 'SEA', 'MIA', 'CHI', 'LB', 'PHL']\n",
    "selected_service_area = st.selectbox(\"Select your service area\", list_service_area)\n",
    "print(selected_service_area)\n",
    "# data = data.loc[data['service_area']==selected_service_area]\n",
    "\n",
    "#number of days in the future\n",
    "NO_DAYS = st.slider('Days', 1, 5, 2)  # min: 1, max: 5, default: 1\n",
    "NO_HOURS = NO_DAYS*24\n",
    "\n",
    "GRANULARITY = 12 #hours of granularity\n",
    "\n",
    "start_date = datetime.datetime.now()\n",
    "# end_date = start_date + datetime.timedelta(days=NO_DAYS)\n",
    "\n",
    "# Create a text element and let the reader know the data is loading.\n",
    "data_load_state = st.text('Loading data...')\n",
    "dfs = []\n",
    "for delta_hours in range(0,NO_HOURS,GRANULARITY):\n",
    "    snapshot_time = start_date + datetime.timedelta(hours=delta_hours)\n",
    "    unix_snapshot_time = int(snapshot_time.timestamp()*1000)\n",
    "    params = {\n",
    "        'all_trips_during_window':\"true\",\n",
    "        'deposit_collected':'false',\n",
    "        'start_date':unix_snapshot_time,\n",
    "        'end_date':unix_snapshot_time,\n",
    "        'leg_type':'delivery',\n",
    "        'service_area_name':selected_service_area,\n",
    "        'no_surfer_activity':'false',\n",
    "        'surfer_unassigned':'false',\n",
    "        'trip_status':'all',\n",
    "        'user_unverified':'false',\n",
    "        'user_verified':'false',\n",
    "        'vehicle_unassigned':'false',\n",
    "        'limit':2000,\n",
    "    }\n",
    "    \n",
    "    # fetch batch of data\n",
    "    dfs.append(fetch_data(params, headers, snapshot_time))\n",
    "\n",
    "data = pd.concat(dfs)\n",
    "\n",
    "# loaded X amount of bookings\n",
    "text_loaded = \"Loaded \" + str(data.shape[0]) + \" ongoing bookings.\"\n",
    "data_load_state.text(text_loaded)\n",
    "\n",
    "# Notify the reader that the data was successfully loaded.\n",
    "data_load_state.text('Loading data...done!')\n",
    "\n",
    "\n",
    "\n",
    "if st.checkbox('Show raw data'):\n",
    "    st.subheader('Raw data')\n",
    "    st.write(data)\n",
    "\n",
    "st.metric(label=\"Number of ongoing bookings\", value=data.shape[0])\n",
    "\n",
    "\n",
    "data_bar_chart = data.groupby(data[\"point_in_time\"]).count()['service_area']\n",
    "# data_bar_chart = data_by_hour['service_area']\n",
    "\n",
    "# histogram\n",
    "st.subheader('Number of ongoing bookings by hour')\n",
    "hist_values = np.histogram(\n",
    "    data[DATE_COLUMN].dt.hour, bins=24, range=(0,24))[0]\n",
    "\n",
    "st.bar_chart(data_bar_chart)\n"
   ]
  },
  {
   "cell_type": "code",
   "execution_count": null,
   "id": "f7e18b8f",
   "metadata": {},
   "outputs": [],
   "source": [
    "data_bar_chart.reset_index()"
   ]
  },
  {
   "cell_type": "code",
   "execution_count": null,
   "id": "5b545e3e",
   "metadata": {},
   "outputs": [],
   "source": [
    "data.head()"
   ]
  },
  {
   "cell_type": "code",
   "execution_count": null,
   "id": "dd6d0f3d",
   "metadata": {},
   "outputs": [],
   "source": [
    "curl 'https://api.drivekyte.com/api/fleet/bookings/legs?all_trips_during_window=true&deposit_collected=false&`&limit=50&no_surfer_activity=false&page=1&service_area_name=BOS&sort=start_time%2Basc&start_date=1637805600000&surfer_unassigned=false&trip_status=all&user_unverified=false&user_verified=false&vehicle_unassigned=false&leg_type=delivery&vehicle_classes=Sedan' \\\n",
    "  -H 'authority: api.drivekyte.com' \\\n",
    "  -H 'sec-ch-ua: \" Not A;Brand\";v=\"99\", \"Chromium\";v=\"96\", \"Google Chrome\";v=\"96\"' \\\n",
    "  -H 'accept: application/json, text/plain, */*' \\\n",
    "  -H 'sec-ch-ua-mobile: ?0' \\\n",
    "  -H 'user-agent: Mozilla/5.0 (Macintosh; Intel Mac OS X 10_15_7) AppleWebKit/537.36 (KHTML, like Gecko) Chrome/96.0.4664.55 Safari/537.36' \\\n",
    "  -H 'sec-ch-ua-platform: \"macOS\"' \\\n",
    "  -H 'origin: https://fleet.drivekyte.com' \\\n",
    "  -H 'sec-fetch-site: same-site' \\\n",
    "  -H 'sec-fetch-mode: cors' \\\n",
    "  -H 'sec-fetch-dest: empty' \\\n",
    "  -H 'referer: https://fleet.drivekyte.com/' \\\n",
    "  -H 'accept-language: en-GB,en-US;q=0.9,en;q=0.8' \\\n",
    "  -H 'cookie: experimentation_subject_id=eyJfcmFpbHMiOnsibWVzc2FnZSI6IklqSmtPVE13TjJKbUxUTmpPR1V0TkdVd01DMWlZbVpoTFRoa1ptRTFOVFkxTWpjMk55ST0iLCJleHAiOm51bGwsInB1ciI6ImNvb2tpZS5leHBlcmltZW50YXRpb25fc3ViamVjdF9pZCJ9fQ%3D%3D--b8eafd8e117561e97e621eb178152ceb7dd9ce00; session=b9208acc-455c-48fb-a7d9-5997b7e1f023; _ga=GA1.2.1397983444.1629704284; _hjid=05d1707d-6139-420f-8f8a-8b6a569f0422; _fbp=fb.1.1629704283763.210886670; __qca=P0-63429127-1629704283912; rbuid=1497012765331692043; __adroll_fpc=20726dabc7f9002db26567a2ca3c5910-1629741904755; _scid=971d53b8-c87d-4f75-8456-c3e0fa760fa4; G_ENABLED_IDPS=google; __stripe_mid=8a542c6c-09f7-411d-9215-eeffb8fb52163976e6; __ar_v4=ZKKPBDRBP5CXVOHDYEPEIN%3A20210822%3A16%7CRO4OLXXBM5HFRMMYO2S3YV%3A20210822%3A16%7C3QY3D2AQBJA3HDQNPWMB3A%3A20210822%3A16; ab.storage.deviceId.0d58e0a0-54ca-447e-8e36-4070450fa383=%7B%22g%22%3A%226245ed38-af4e-7416-d6ab-4c3738d99e82%22%2C%22c%22%3A1632305921318%2C%22l%22%3A1632305921318%7D; mp_fb276b416f731801fe06277063a7e645_mixpanel=%7B%22distinct_id%22%3A%20%2217b71f1e4b0b96-07fefd97153c98-35607403-13c680-17b71f1e4b1dd7%22%2C%22%24device_id%22%3A%20%2217b71f1e4b0b96-07fefd97153c98-35607403-13c680-17b71f1e4b1dd7%22%2C%22%24initial_referrer%22%3A%20%22%24direct%22%2C%22%24initial_referring_domain%22%3A%20%22%24direct%22%2C%22%24search_engine%22%3A%20%22google%22%7D; remember_token=91209|874e6fda65e09a1efa22c39386470279b2db82c5566f72b9e13c5b72cdb8f5386caa54ea15ac6360799741cc38b7154497a52338d286ad26339128b3e4b01a92; _hjSessionUser_2348692=eyJpZCI6Ijc4NTE3YmQyLWEwZTItNWU0Yi1iNDUzLTViMWY2ZmIwMzdiNCIsImNyZWF0ZWQiOjE2MzcxNTkxMDIwNDYsImV4aXN0aW5nIjp0cnVlfQ==; ajs_user_id=%22fb8aeb42-e0d3-42be-8b7a-b125f5552bc9%22; ajs_anonymous_id=%228b80dc38-3ff2-427c-8e65-26d3aa30b836%22; ab.storage.userId.0d58e0a0-54ca-447e-8e36-4070450fa383=%7B%22g%22%3A%22fb8aeb42-e0d3-42be-8b7a-b125f5552bc9%22%2C%22c%22%3A1637240531020%2C%22l%22%3A1637240531020%7D; ab.storage.sessionId.0d58e0a0-54ca-447e-8e36-4070450fa383=%7B%22g%22%3A%2222ca447e-60dc-cb71-dd34-873e5c9595c2%22%2C%22e%22%3A1637240663139%2C%22c%22%3A1637240633140%2C%22l%22%3A1637240633140%7D; _gcl_au=1.1.1506338605.1637606960; _uetvid=0ca7ae7003e511eca86ad7229272d4df' \\\n",
    "  --compressed"
   ]
  },
  {
   "cell_type": "code",
   "execution_count": null,
   "id": "d538a805",
   "metadata": {},
   "outputs": [],
   "source": [
    "end_date=1637805540000\n",
    "start_date=1637805600000"
   ]
  },
  {
   "cell_type": "code",
   "execution_count": null,
   "id": "2f02e520",
   "metadata": {},
   "outputs": [],
   "source": [
    "end_date-start_date"
   ]
  },
  {
   "cell_type": "code",
   "execution_count": null,
   "id": "6950a137",
   "metadata": {},
   "outputs": [],
   "source": [
    "import requests\n",
    "import pandas as pd\n",
    "import numpy as np\n",
    "\n",
    "import streamlit as st\n",
    "from streamlit import caching\n",
    "\n",
    "import datetime\n",
    "import math\n",
    "\n",
    "\n",
    "headers = {\n",
    "    'authority': \"api.drivekyte.com\",\n",
    "    'origin': \"https://fleet.drivekyte.com\",\n",
    "    'sec-fetch-mode': 'cors',\n",
    "    'accept-language': 'en-GB,en-US;q=0.9,en;q=0.8',\n",
    "    'cookie': 'experimentation_subject_id=eyJfcmFpbHMiOnsibWVzc2FnZSI6IklqSmtPVE13TjJKbUxUTmpPR1V0TkdVd01DMWlZbVpoTFRoa1ptRTFOVFkxTWpjMk55ST0iLCJleHAiOm51bGwsInB1ciI6ImNvb2tpZS5leHBlcmltZW50YXRpb25fc3ViamVjdF9pZCJ9fQ%3D%3D--b8eafd8e117561e97e621eb178152ceb7dd9ce00; session=b9208acc-455c-48fb-a7d9-5997b7e1f023; _ga=GA1.2.1397983444.1629704284; _hjid=05d1707d-6139-420f-8f8a-8b6a569f0422; _fbp=fb.1.1629704283763.210886670; __qca=P0-63429127-1629704283912; rbuid=1497012765331692043; __adroll_fpc=20726dabc7f9002db26567a2ca3c5910-1629741904755; _scid=971d53b8-c87d-4f75-8456-c3e0fa760fa4; G_ENABLED_IDPS=google; __stripe_mid=8a542c6c-09f7-411d-9215-eeffb8fb52163976e6; __ar_v4=ZKKPBDRBP5CXVOHDYEPEIN%3A20210822%3A16%7CRO4OLXXBM5HFRMMYO2S3YV%3A20210822%3A16%7C3QY3D2AQBJA3HDQNPWMB3A%3A20210822%3A16; ab.storage.deviceId.0d58e0a0-54ca-447e-8e36-4070450fa383=%7B%22g%22%3A%226245ed38-af4e-7416-d6ab-4c3738d99e82%22%2C%22c%22%3A1632305921318%2C%22l%22%3A1632305921318%7D; mp_fb276b416f731801fe06277063a7e645_mixpanel=%7B%22distinct_id%22%3A%20%2217b71f1e4b0b96-07fefd97153c98-35607403-13c680-17b71f1e4b1dd7%22%2C%22%24device_id%22%3A%20%2217b71f1e4b0b96-07fefd97153c98-35607403-13c680-17b71f1e4b1dd7%22%2C%22%24initial_referrer%22%3A%20%22%24direct%22%2C%22%24initial_referring_domain%22%3A%20%22%24direct%22%2C%22%24search_engine%22%3A%20%22google%22%7D; remember_token=91209|874e6fda65e09a1efa22c39386470279b2db82c5566f72b9e13c5b72cdb8f5386caa54ea15ac6360799741cc38b7154497a52338d286ad26339128b3e4b01a92; _hjSessionUser_2348692=eyJpZCI6Ijc4NTE3YmQyLWEwZTItNWU0Yi1iNDUzLTViMWY2ZmIwMzdiNCIsImNyZWF0ZWQiOjE2MzcxNTkxMDIwNDYsImV4aXN0aW5nIjp0cnVlfQ==; ajs_user_id=%22fb8aeb42-e0d3-42be-8b7a-b125f5552bc9%22; ajs_anonymous_id=%228b80dc38-3ff2-427c-8e65-26d3aa30b836%22; ab.storage.userId.0d58e0a0-54ca-447e-8e36-4070450fa383=%7B%22g%22%3A%22fb8aeb42-e0d3-42be-8b7a-b125f5552bc9%22%2C%22c%22%3A1637240531020%2C%22l%22%3A1637240531020%7D; ab.storage.sessionId.0d58e0a0-54ca-447e-8e36-4070450fa383=%7B%22g%22%3A%2222ca447e-60dc-cb71-dd34-873e5c9595c2%22%2C%22e%22%3A1637240663139%2C%22c%22%3A1637240633140%2C%22l%22%3A1637240633140%7D; _gcl_au=1.1.1506338605.1637606960; _uetvid=0ca7ae7003e511eca86ad7229272d4df',\n",
    "    \n",
    "}\n",
    "\n",
    "DATE_COLUMN = 'start_time'\n",
    "\n",
    "\n",
    "def fetch_data(params, headers, snapshot_time):\n",
    "    response = requests.get(\"https://api.drivekyte.com/api/fleet/bookings/legs?\",params=params, headers=headers)\n",
    "    print(response.status_code)\n",
    "    response.raise_for_status()\n",
    "    response_meta = response.json()['meta']\n",
    "    response_data = response.json()['data']\n",
    "    \n",
    "    df = pd.DataFrame(response_data)\n",
    "\n",
    "    # convert to datetime\n",
    "    df[DATE_COLUMN] = pd.to_datetime(df[DATE_COLUMN],unit='ms')\n",
    "\n",
    "    # keep only service area name\n",
    "    df['service_area'] = df['service_area'].apply(lambda x: x['name'])\n",
    "    \n",
    "    #add in time period\n",
    "    df['point_in_time'] = snapshot_time\n",
    "    return df\n",
    "\n",
    "\n",
    "# @st.cache\n",
    "def load_data(NO_HOURS, GRANULARITY, start_date, selected_service_area, selected_vehicle_type):\n",
    "    for delta_hours in range(0,NO_HOURS,GRANULARITY):\n",
    "        snapshot_time = start_date + datetime.timedelta(hours=delta_hours)\n",
    "        unix_snapshot_time = int(snapshot_time.timestamp()*1000)\n",
    "        \n",
    "        params = {\n",
    "            'all_trips_during_window':\"true\",\n",
    "            'deposit_collected':'false',\n",
    "            'start_date':unix_snapshot_time,\n",
    "            'end_date':unix_snapshot_time+60000,\n",
    "            'leg_type':'delivery',\n",
    "            'service_area_name':selected_service_area,\n",
    "            'no_surfer_activity':'false',\n",
    "            'surfer_unassigned':'false',\n",
    "            'trip_status':'all',\n",
    "            'user_unverified':'false',\n",
    "            'user_verified':'false',\n",
    "            'vehicle_unassigned':'false',\n",
    "            'vehicle_classes':selected_vehicle_type,\n",
    "            'limit':2000,\n",
    "        }\n",
    "        # fetch batch of data\n",
    "        dfs.append(fetch_data(params, headers, snapshot_time))\n",
    "\n",
    "    return pd.concat(dfs)\n",
    "\n",
    "\n",
    "\n",
    "\n",
    "#service area selector\n",
    "form = st.form(\"my_form\")\n",
    "# list_service_area = list(data['service_area'].unique())\n",
    "list_service_area = ['LA', 'SF', 'BOS', 'BK', 'DC', 'NYC', 'SEA', 'MIA', 'CHI', 'LB', 'PHL']\n",
    "selected_service_area = form.selectbox(\"Select your service area\", list_service_area)\n",
    "print(selected_service_area)\n",
    "\n",
    "list_vehicle_type = [\"Economy\", \"SUV\", \"Sedan\"]\n",
    "selected_vehicle_type = form.selectbox(\"Select vehicle type\", list_vehicle_type)\n",
    "\n",
    "start_date_day = form.date_input(\"Start day\", datetime.datetime.now())\n",
    "start_date_time = datetime.datetime.min.time()\n",
    "start_date = datetime.datetime.combine(start_date_day, start_date_time)\n",
    "\n",
    "#number of days in the future\n",
    "NO_DAYS = form.slider('Days Ahead', 1, 5, 1)  # min: 1, max: 5, default: 1\n",
    "NO_HOURS = NO_DAYS*24 + 1\n",
    "\n",
    "selected_granularity = form.selectbox(\"select time window in hours\", [6,9,12,24])\n",
    "\n",
    "\n",
    "#sumbmit button\n",
    "submitted = form.form_submit_button(\"Submit\")\n",
    "\n",
    "\n",
    "GRANULARITY = selected_granularity #hours of granularity\n",
    "\n",
    "\n",
    "# start_date = datetime.datetime.now()\n",
    "# end_date = start_date + datetime.timedelta(days=NO_DAYS)\n",
    "\n",
    "dfs = []\n",
    "\n",
    "if True:\n",
    "    # Create a text element and let the reader know the data is loading.\n",
    "    data_load_state = st.text('Loading data...')\n",
    "    data = load_data(NO_HOURS, GRANULARITY, start_date, selected_service_area, selected_vehicle_type)\n",
    "\n",
    "\n",
    "    # Notify the reader that the data was successfully loaded.\n",
    "    data_load_state.text('Loading data...done!')\n",
    "\n",
    "\n",
    "    data_chart = data.groupby(data[\"point_in_time\"]).count()['service_area']\n",
    "    # data_bar_chart = data_by_hour['service_area']\n",
    "\n",
    "    # histogram\n",
    "    st.subheader('Number of ongoing bookings by hour')\n",
    "    hist_values = np.histogram(\n",
    "        data[DATE_COLUMN].dt.hour, bins=24, range=(0,24))[0]\n",
    "\n",
    "    st.line_chart(data_chart)\n",
    "\n"
   ]
  },
  {
   "cell_type": "code",
   "execution_count": null,
   "id": "2edb502d",
   "metadata": {},
   "outputs": [],
   "source": [
    "\n",
    "curl 'https://api.drivekyte.com/api/fleet/bookings/legs?all_trips_during_window=false&deposit_collected=false&end_date=1637827199999&limit=50&no_surfer_activity=false&page=1&service_area_name=all&sort=start_time%2Bdesc&start_date=1637740800000&surfer_unassigned=false&trip_status=all&user_unverified=false&user_verified=false&vehicle_unassigned=false' \\\n",
    "  -H 'authority: api.drivekyte.com' \\\n",
    "  -H 'sec-ch-ua: \" Not A;Brand\";v=\"99\", \"Chromium\";v=\"96\", \"Google Chrome\";v=\"96\"' \\\n",
    "  -H 'accept: application/json, text/plain, */*' \\\n",
    "  -H 'sec-ch-ua-mobile: ?0' \\\n",
    "  -H 'user-agent: Mozilla/5.0 (Macintosh; Intel Mac OS X 10_15_7) AppleWebKit/537.36 (KHTML, like Gecko) Chrome/96.0.4664.55 Safari/537.36' \\\n",
    "  -H 'sec-ch-ua-platform: \"macOS\"' \\\n",
    "  -H 'origin: https://fleet.drivekyte.com' \\\n",
    "  -H 'sec-fetch-site: same-site' \\\n",
    "  -H 'sec-fetch-mode: cors' \\\n",
    "  -H 'sec-fetch-dest: empty' \\\n",
    "  -H 'referer: https://fleet.drivekyte.com/' \\\n",
    "  -H 'accept-language: en-GB,en-US;q=0.9,en;q=0.8' \\\n",
    "  -H 'cookie: experimentation_subject_id=eyJfcmFpbHMiOnsibWVzc2FnZSI6IklqSmtPVE13TjJKbUxUTmpPR1V0TkdVd01DMWlZbVpoTFRoa1ptRTFOVFkxTWpjMk55ST0iLCJleHAiOm51bGwsInB1ciI6ImNvb2tpZS5leHBlcmltZW50YXRpb25fc3ViamVjdF9pZCJ9fQ%3D%3D--b8eafd8e117561e97e621eb178152ceb7dd9ce00; session=b9208acc-455c-48fb-a7d9-5997b7e1f023; _ga=GA1.2.1397983444.1629704284; _hjid=05d1707d-6139-420f-8f8a-8b6a569f0422; _fbp=fb.1.1629704283763.210886670; __qca=P0-63429127-1629704283912; rbuid=1497012765331692043; __adroll_fpc=20726dabc7f9002db26567a2ca3c5910-1629741904755; _scid=971d53b8-c87d-4f75-8456-c3e0fa760fa4; G_ENABLED_IDPS=google; __stripe_mid=8a542c6c-09f7-411d-9215-eeffb8fb52163976e6; __ar_v4=ZKKPBDRBP5CXVOHDYEPEIN%3A20210822%3A16%7CRO4OLXXBM5HFRMMYO2S3YV%3A20210822%3A16%7C3QY3D2AQBJA3HDQNPWMB3A%3A20210822%3A16; ab.storage.deviceId.0d58e0a0-54ca-447e-8e36-4070450fa383=%7B%22g%22%3A%226245ed38-af4e-7416-d6ab-4c3738d99e82%22%2C%22c%22%3A1632305921318%2C%22l%22%3A1632305921318%7D; mp_fb276b416f731801fe06277063a7e645_mixpanel=%7B%22distinct_id%22%3A%20%2217b71f1e4b0b96-07fefd97153c98-35607403-13c680-17b71f1e4b1dd7%22%2C%22%24device_id%22%3A%20%2217b71f1e4b0b96-07fefd97153c98-35607403-13c680-17b71f1e4b1dd7%22%2C%22%24initial_referrer%22%3A%20%22%24direct%22%2C%22%24initial_referring_domain%22%3A%20%22%24direct%22%2C%22%24search_engine%22%3A%20%22google%22%7D; remember_token=91209|874e6fda65e09a1efa22c39386470279b2db82c5566f72b9e13c5b72cdb8f5386caa54ea15ac6360799741cc38b7154497a52338d286ad26339128b3e4b01a92; _hjSessionUser_2348692=eyJpZCI6Ijc4NTE3YmQyLWEwZTItNWU0Yi1iNDUzLTViMWY2ZmIwMzdiNCIsImNyZWF0ZWQiOjE2MzcxNTkxMDIwNDYsImV4aXN0aW5nIjp0cnVlfQ==; ajs_user_id=%22fb8aeb42-e0d3-42be-8b7a-b125f5552bc9%22; ajs_anonymous_id=%228b80dc38-3ff2-427c-8e65-26d3aa30b836%22; ab.storage.userId.0d58e0a0-54ca-447e-8e36-4070450fa383=%7B%22g%22%3A%22fb8aeb42-e0d3-42be-8b7a-b125f5552bc9%22%2C%22c%22%3A1637240531020%2C%22l%22%3A1637240531020%7D; ab.storage.sessionId.0d58e0a0-54ca-447e-8e36-4070450fa383=%7B%22g%22%3A%2222ca447e-60dc-cb71-dd34-873e5c9595c2%22%2C%22e%22%3A1637240663139%2C%22c%22%3A1637240633140%2C%22l%22%3A1637240633140%7D; _gcl_au=1.1.1506338605.1637606960; _uetvid=0ca7ae7003e511eca86ad7229272d4df' \\\n",
    "  --compressed"
   ]
  }
 ],
 "metadata": {
  "kernelspec": {
   "display_name": "Python 3 (ipykernel)",
   "language": "python",
   "name": "python3"
  },
  "language_info": {
   "codemirror_mode": {
    "name": "ipython",
    "version": 3
   },
   "file_extension": ".py",
   "mimetype": "text/x-python",
   "name": "python",
   "nbconvert_exporter": "python",
   "pygments_lexer": "ipython3",
   "version": "3.8.12"
  }
 },
 "nbformat": 4,
 "nbformat_minor": 5
}
